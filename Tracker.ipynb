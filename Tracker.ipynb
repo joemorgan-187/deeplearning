{
  "nbformat": 4,
  "nbformat_minor": 0,
  "metadata": {
    "colab": {
      "provenance": [],
      "collapsed_sections": [],
      "toc_visible": true,
      "authorship_tag": "ABX9TyMT8yNW91bN5M9fD2NLP0yE",
      "include_colab_link": true
    },
    "kernelspec": {
      "name": "python3",
      "display_name": "Python 3"
    },
    "language_info": {
      "name": "python"
    }
  },
  "cells": [
    {
      "cell_type": "markdown",
      "metadata": {
        "id": "view-in-github",
        "colab_type": "text"
      },
      "source": [
        "<a href=\"https://colab.research.google.com/github/joemorgan-187/deeplearning/blob/master/Tracker.ipynb\" target=\"_parent\"><img src=\"https://colab.research.google.com/assets/colab-badge.svg\" alt=\"Open In Colab\"/></a>"
      ]
    },
    {
      "cell_type": "code",
      "source": [
        "x = input()\n",
        "import pandas as pd\n",
        "df=pd.read_html(x)\n",
        "df=df[0]\n",
        "df = df.loc[:,['Products', 'Quantity']]\n",
        "df = df.astype({\"Quantity\":str})\n",
        "df = df[df[\"Quantity\"].str.contains(\".0\")!=False]\n",
        "df = df.astype({\"Quantity\":float})\n",
        "df = df.astype({\"Quantity\":int})\n",
        "df = df.astype({\"Quantity\":str})\n",
        "df['Quantity'] = '(' + df['Quantity'] + ') '\n",
        "df = df.rename(columns={'Products': 'Product'})\n",
        "df[\"Quantity\"] = df[\"Quantity\"] + df[\"Product\"]\n",
        "df = df.loc[:,['Quantity']]\n",
        "df = df.rename(columns={'Quantity': 'Product'})\n",
        "df['Product'] = df['Product'].str.upper()\n",
        "df = df.set_index('Product')\n",
        "df"
      ],
      "metadata": {
        "id": "TMz9OA3gfgcV"
      },
      "execution_count": null,
      "outputs": []
    },
    {
      "cell_type": "code",
      "source": [],
      "metadata": {
        "id": "3LkvI3dPfsO6"
      },
      "execution_count": null,
      "outputs": []
    }
  ]
}