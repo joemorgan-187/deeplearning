{
  "nbformat": 4,
  "nbformat_minor": 0,
  "metadata": {
    "colab": {
      "name": "2022-08-10-My-First-Post.ipynb.ipynb",
      "provenance": [],
      "collapsed_sections": []
    },
    "kernelspec": {
      "name": "python3",
      "display_name": "Python 3"
    },
    "language_info": {
      "name": "python"
    }
  },
  "cells": [
    {
      "cell_type": "markdown",
      "source": [
        "# \"My Title\"\n",
        "> \"Awesome summary\"\n",
        "\n",
        "- toc:true- branch: master\n",
        "- badges: false\n",
        "- comments: false\n",
        "- author: Hamel Husain & Jeremy Howard\n",
        "- categories: [fastpages, jupyter]"
      ],
      "metadata": {
        "id": "RSsjO8qQhwoJ"
      }
    },
    {
      "cell_type": "code",
      "execution_count": null,
      "metadata": {
        "id": "WYpOFOodfWUi"
      },
      "outputs": [],
      "source": [
        ""
      ]
    },
    {
      "cell_type": "markdown",
      "source": [
        "## My First Post"
      ],
      "metadata": {
        "id": "r7wV0Pw2g6DK"
      }
    },
    {
      "cell_type": "code",
      "source": [
        "#hide\n",
        "1+1"
      ],
      "metadata": {
        "colab": {
          "base_uri": "https://localhost:8080/"
        },
        "id": "eWh9YQjMg3rQ",
        "outputId": "2cb51fc9-c3c7-42db-994f-625c1f106bde"
      },
      "execution_count": 1,
      "outputs": [
        {
          "output_type": "execute_result",
          "data": {
            "text/plain": [
              "2"
            ]
          },
          "metadata": {},
          "execution_count": 1
        }
      ]
    },
    {
      "cell_type": "code",
      "source": [
        "#collapse\n",
        "1+1"
      ],
      "metadata": {
        "colab": {
          "base_uri": "https://localhost:8080/"
        },
        "id": "nA2gL2C5g5Se",
        "outputId": "608ac026-9783-4e8a-92fe-5457ab955c78"
      },
      "execution_count": 2,
      "outputs": [
        {
          "output_type": "execute_result",
          "data": {
            "text/plain": [
              "2"
            ]
          },
          "metadata": {},
          "execution_count": 2
        }
      ]
    },
    {
      "cell_type": "markdown",
      "source": [
        "> youtube: https://www.youtube.com/watch?v=rYSCHKmvcIY&list=RDrYSCHKmvcIY&start_radio=1&ab_channel=bakerist"
      ],
      "metadata": {
        "id": "pYIcHWrRhRYv"
      }
    },
    {
      "cell_type": "markdown",
      "source": [
        "![](http://yann.lecun.com/ex/images/demo03-anim.gif \"Credit: https://www.fast.ai/2020/02/13/fastai-A-Layered-API-for-Deep-Learning/\")\n",
        "\n",
        "\n"
      ],
      "metadata": {
        "id": "oMhdcHGYh_9w"
      }
    },
    {
      "cell_type": "code",
      "source": [
        ""
      ],
      "metadata": {
        "id": "aWWIE3BahLzm"
      },
      "execution_count": null,
      "outputs": []
    }
  ]
}